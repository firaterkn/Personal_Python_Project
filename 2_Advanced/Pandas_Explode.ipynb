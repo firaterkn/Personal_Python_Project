{
 "cells": [
  {
   "cell_type": "code",
   "execution_count": 32,
   "metadata": {},
   "outputs": [],
   "source": [
    "import pandas as pd\n",
    "import matplotlib.pyplot as plt\n",
    "import numpy as np\n",
    "import ast\n",
    "\n",
    "df = pd.read_csv(\"C:\\\\Users\\\\ERKAN\\\\Downloads\\\\data_jobs.csv\")\n",
    "df[\"job_posted_date\"] = pd.to_datetime(df.job_posted_date)\n",
    "\n",
    "#We need to change it to list\n",
    "df[\"job_skills\"] = df[\"job_skills\"].apply(lambda x: ast.literal_eval(x) if pd.notna(x) else x)\n"
   ]
  },
  {
   "cell_type": "code",
   "execution_count": 33,
   "metadata": {},
   "outputs": [
    {
     "data": {
      "text/html": [
       "<div>\n",
       "<style scoped>\n",
       "    .dataframe tbody tr th:only-of-type {\n",
       "        vertical-align: middle;\n",
       "    }\n",
       "\n",
       "    .dataframe tbody tr th {\n",
       "        vertical-align: top;\n",
       "    }\n",
       "\n",
       "    .dataframe thead th {\n",
       "        text-align: right;\n",
       "    }\n",
       "</style>\n",
       "<table border=\"1\" class=\"dataframe\">\n",
       "  <thead>\n",
       "    <tr style=\"text-align: right;\">\n",
       "      <th></th>\n",
       "      <th>job_title_short</th>\n",
       "      <th>job_skills</th>\n",
       "    </tr>\n",
       "  </thead>\n",
       "  <tbody>\n",
       "    <tr>\n",
       "      <th>785736</th>\n",
       "      <td>Software Engineer</td>\n",
       "      <td>[bash, python, perl, linux, unix, kubernetes, ...</td>\n",
       "    </tr>\n",
       "    <tr>\n",
       "      <th>785737</th>\n",
       "      <td>Data Analyst</td>\n",
       "      <td>[sas, sas, sql, excel]</td>\n",
       "    </tr>\n",
       "    <tr>\n",
       "      <th>785738</th>\n",
       "      <td>Business Analyst</td>\n",
       "      <td>[powerpoint, excel]</td>\n",
       "    </tr>\n",
       "    <tr>\n",
       "      <th>785739</th>\n",
       "      <td>Data Engineer</td>\n",
       "      <td>[python, go, nosql, sql, mongo, shell, mysql, ...</td>\n",
       "    </tr>\n",
       "    <tr>\n",
       "      <th>785740</th>\n",
       "      <td>Software Engineer</td>\n",
       "      <td>[aws, flow]</td>\n",
       "    </tr>\n",
       "  </tbody>\n",
       "</table>\n",
       "</div>"
      ],
      "text/plain": [
       "          job_title_short                                         job_skills\n",
       "785736  Software Engineer  [bash, python, perl, linux, unix, kubernetes, ...\n",
       "785737       Data Analyst                             [sas, sas, sql, excel]\n",
       "785738   Business Analyst                                [powerpoint, excel]\n",
       "785739      Data Engineer  [python, go, nosql, sql, mongo, shell, mysql, ...\n",
       "785740  Software Engineer                                        [aws, flow]"
      ]
     },
     "execution_count": 33,
     "metadata": {},
     "output_type": "execute_result"
    }
   ],
   "source": [
    "df[[\"job_title_short\", \"job_skills\"]].tail()\n"
   ]
  },
  {
   "cell_type": "code",
   "execution_count": 34,
   "metadata": {},
   "outputs": [
    {
     "data": {
      "text/plain": [
       "<AxesSubplot:>"
      ]
     },
     "execution_count": 34,
     "metadata": {},
     "output_type": "execute_result"
    },
    {
     "data": {
      "image/png": "[encoded data removed]",
      "text/plain": [
       "<Figure size 432x288 with 1 Axes>"
      ]
     },
     "metadata": {
      "needs_background": "light"
     },
     "output_type": "display_data"
    }
   ],
   "source": [
    "df_exploded = df.explode(\"job_skills\")\n",
    "df_exploded[\"job_skills\"].value_counts().head(10).plot(kind=\"bar\")"
   ]
  },
  {
   "cell_type": "code",
   "execution_count": 35,
   "metadata": {},
   "outputs": [
    {
     "data": {
      "text/plain": [
       "job_title_short    job_skills\n",
       "Business Analyst   airflow        318\n",
       "                   airtable        17\n",
       "                   alteryx       1078\n",
       "                   angular         87\n",
       "                   ansible        120\n",
       "                                 ... \n",
       "Software Engineer  wrike            4\n",
       "                   wsl             13\n",
       "                   xamarin         35\n",
       "                   yarn           145\n",
       "                   zoom           229\n",
       "Length: 2256, dtype: int64"
      ]
     },
     "execution_count": 35,
     "metadata": {},
     "output_type": "execute_result"
    }
   ],
   "source": [
    "skill_counter = df_exploded.groupby([\"job_title_short\", \"job_skills\"]).size()\n",
    "skill_counter"
   ]
  },
  {
   "cell_type": "code",
   "execution_count": 36,
   "metadata": {},
   "outputs": [
    {
     "data": {
      "text/plain": [
       "pandas.core.series.Series"
      ]
     },
     "execution_count": 36,
     "metadata": {},
     "output_type": "execute_result"
    }
   ],
   "source": [
    "#we will change its type from series to dataframe\n",
    "type(skill_counter)"
   ]
  },
  {
   "cell_type": "code",
   "execution_count": 37,
   "metadata": {},
   "outputs": [
    {
     "data": {
      "text/html": [
       "<div>\n",
       "<style scoped>\n",
       "    .dataframe tbody tr th:only-of-type {\n",
       "        vertical-align: middle;\n",
       "    }\n",
       "\n",
       "    .dataframe tbody tr th {\n",
       "        vertical-align: top;\n",
       "    }\n",
       "\n",
       "    .dataframe thead th {\n",
       "        text-align: right;\n",
       "    }\n",
       "</style>\n",
       "<table border=\"1\" class=\"dataframe\">\n",
       "  <thead>\n",
       "    <tr style=\"text-align: right;\">\n",
       "      <th></th>\n",
       "      <th>job_title_short</th>\n",
       "      <th>job_skills</th>\n",
       "      <th>skill_counter</th>\n",
       "    </tr>\n",
       "  </thead>\n",
       "  <tbody>\n",
       "    <tr>\n",
       "      <th>0</th>\n",
       "      <td>Business Analyst</td>\n",
       "      <td>airflow</td>\n",
       "      <td>318</td>\n",
       "    </tr>\n",
       "    <tr>\n",
       "      <th>1</th>\n",
       "      <td>Business Analyst</td>\n",
       "      <td>airtable</td>\n",
       "      <td>17</td>\n",
       "    </tr>\n",
       "    <tr>\n",
       "      <th>2</th>\n",
       "      <td>Business Analyst</td>\n",
       "      <td>alteryx</td>\n",
       "      <td>1078</td>\n",
       "    </tr>\n",
       "    <tr>\n",
       "      <th>3</th>\n",
       "      <td>Business Analyst</td>\n",
       "      <td>angular</td>\n",
       "      <td>87</td>\n",
       "    </tr>\n",
       "    <tr>\n",
       "      <th>4</th>\n",
       "      <td>Business Analyst</td>\n",
       "      <td>ansible</td>\n",
       "      <td>120</td>\n",
       "    </tr>\n",
       "    <tr>\n",
       "      <th>...</th>\n",
       "      <td>...</td>\n",
       "      <td>...</td>\n",
       "      <td>...</td>\n",
       "    </tr>\n",
       "    <tr>\n",
       "      <th>2251</th>\n",
       "      <td>Software Engineer</td>\n",
       "      <td>wrike</td>\n",
       "      <td>4</td>\n",
       "    </tr>\n",
       "    <tr>\n",
       "      <th>2252</th>\n",
       "      <td>Software Engineer</td>\n",
       "      <td>wsl</td>\n",
       "      <td>13</td>\n",
       "    </tr>\n",
       "    <tr>\n",
       "      <th>2253</th>\n",
       "      <td>Software Engineer</td>\n",
       "      <td>xamarin</td>\n",
       "      <td>35</td>\n",
       "    </tr>\n",
       "    <tr>\n",
       "      <th>2254</th>\n",
       "      <td>Software Engineer</td>\n",
       "      <td>yarn</td>\n",
       "      <td>145</td>\n",
       "    </tr>\n",
       "    <tr>\n",
       "      <th>2255</th>\n",
       "      <td>Software Engineer</td>\n",
       "      <td>zoom</td>\n",
       "      <td>229</td>\n",
       "    </tr>\n",
       "  </tbody>\n",
       "</table>\n",
       "<p>2256 rows × 3 columns</p>\n",
       "</div>"
      ],
      "text/plain": [
       "        job_title_short job_skills  skill_counter\n",
       "0      Business Analyst    airflow            318\n",
       "1      Business Analyst   airtable             17\n",
       "2      Business Analyst    alteryx           1078\n",
       "3      Business Analyst    angular             87\n",
       "4      Business Analyst    ansible            120\n",
       "...                 ...        ...            ...\n",
       "2251  Software Engineer      wrike              4\n",
       "2252  Software Engineer        wsl             13\n",
       "2253  Software Engineer    xamarin             35\n",
       "2254  Software Engineer       yarn            145\n",
       "2255  Software Engineer       zoom            229\n",
       "\n",
       "[2256 rows x 3 columns]"
      ]
     },
     "execution_count": 37,
     "metadata": {},
     "output_type": "execute_result"
    }
   ],
   "source": [
    "df_skill_counter = skill_counter.reset_index(name=\"skill_counter\")\n",
    "df_skill_counter"
   ]
  },
  {
   "cell_type": "code",
   "execution_count": 38,
   "metadata": {},
   "outputs": [
    {
     "data": {
      "text/html": [
       "<div>\n",
       "<style scoped>\n",
       "    .dataframe tbody tr th:only-of-type {\n",
       "        vertical-align: middle;\n",
       "    }\n",
       "\n",
       "    .dataframe tbody tr th {\n",
       "        vertical-align: top;\n",
       "    }\n",
       "\n",
       "    .dataframe thead th {\n",
       "        text-align: right;\n",
       "    }\n",
       "</style>\n",
       "<table border=\"1\" class=\"dataframe\">\n",
       "  <thead>\n",
       "    <tr style=\"text-align: right;\">\n",
       "      <th></th>\n",
       "      <th>job_title_short</th>\n",
       "      <th>job_skills</th>\n",
       "      <th>skill_counter</th>\n",
       "    </tr>\n",
       "  </thead>\n",
       "  <tbody>\n",
       "    <tr>\n",
       "      <th>1066</th>\n",
       "      <td>Data Scientist</td>\n",
       "      <td>python</td>\n",
       "      <td>113711</td>\n",
       "    </tr>\n",
       "    <tr>\n",
       "      <th>865</th>\n",
       "      <td>Data Engineer</td>\n",
       "      <td>sql</td>\n",
       "      <td>113130</td>\n",
       "    </tr>\n",
       "    <tr>\n",
       "      <th>830</th>\n",
       "      <td>Data Engineer</td>\n",
       "      <td>python</td>\n",
       "      <td>108022</td>\n",
       "    </tr>\n",
       "    <tr>\n",
       "      <th>625</th>\n",
       "      <td>Data Analyst</td>\n",
       "      <td>sql</td>\n",
       "      <td>92428</td>\n",
       "    </tr>\n",
       "    <tr>\n",
       "      <th>1101</th>\n",
       "      <td>Data Scientist</td>\n",
       "      <td>sql</td>\n",
       "      <td>78982</td>\n",
       "    </tr>\n",
       "    <tr>\n",
       "      <th>...</th>\n",
       "      <td>...</td>\n",
       "      <td>...</td>\n",
       "      <td>...</td>\n",
       "    </tr>\n",
       "    <tr>\n",
       "      <th>266</th>\n",
       "      <td>Cloud Engineer</td>\n",
       "      <td>delphi</td>\n",
       "      <td>1</td>\n",
       "    </tr>\n",
       "    <tr>\n",
       "      <th>1920</th>\n",
       "      <td>Senior Data Scientist</td>\n",
       "      <td>objective-c</td>\n",
       "      <td>1</td>\n",
       "    </tr>\n",
       "    <tr>\n",
       "      <th>1400</th>\n",
       "      <td>Senior Data Analyst</td>\n",
       "      <td>couchdb</td>\n",
       "      <td>1</td>\n",
       "    </tr>\n",
       "    <tr>\n",
       "      <th>298</th>\n",
       "      <td>Cloud Engineer</td>\n",
       "      <td>haskell</td>\n",
       "      <td>1</td>\n",
       "    </tr>\n",
       "    <tr>\n",
       "      <th>631</th>\n",
       "      <td>Data Analyst</td>\n",
       "      <td>suse</td>\n",
       "      <td>1</td>\n",
       "    </tr>\n",
       "  </tbody>\n",
       "</table>\n",
       "<p>2256 rows × 3 columns</p>\n",
       "</div>"
      ],
      "text/plain": [
       "            job_title_short   job_skills  skill_counter\n",
       "1066         Data Scientist       python         113711\n",
       "865           Data Engineer          sql         113130\n",
       "830           Data Engineer       python         108022\n",
       "625            Data Analyst          sql          92428\n",
       "1101         Data Scientist          sql          78982\n",
       "...                     ...          ...            ...\n",
       "266          Cloud Engineer       delphi              1\n",
       "1920  Senior Data Scientist  objective-c              1\n",
       "1400    Senior Data Analyst      couchdb              1\n",
       "298          Cloud Engineer      haskell              1\n",
       "631            Data Analyst         suse              1\n",
       "\n",
       "[2256 rows x 3 columns]"
      ]
     },
     "execution_count": 38,
     "metadata": {},
     "output_type": "execute_result"
    }
   ],
   "source": [
    "df_skill_counter = df_skill_counter.sort_values(\"skill_counter\", ascending=False)\n",
    "df_skill_counter"
   ]
  },
  {
   "cell_type": "code",
   "execution_count": 39,
   "metadata": {},
   "outputs": [
    {
     "data": {
      "text/html": [
       "<div>\n",
       "<style scoped>\n",
       "    .dataframe tbody tr th:only-of-type {\n",
       "        vertical-align: middle;\n",
       "    }\n",
       "\n",
       "    .dataframe tbody tr th {\n",
       "        vertical-align: top;\n",
       "    }\n",
       "\n",
       "    .dataframe thead th {\n",
       "        text-align: right;\n",
       "    }\n",
       "</style>\n",
       "<table border=\"1\" class=\"dataframe\">\n",
       "  <thead>\n",
       "    <tr style=\"text-align: right;\">\n",
       "      <th></th>\n",
       "      <th>job_title_short</th>\n",
       "      <th>job_skills</th>\n",
       "      <th>skill_counter</th>\n",
       "    </tr>\n",
       "  </thead>\n",
       "  <tbody>\n",
       "    <tr>\n",
       "      <th>625</th>\n",
       "      <td>Data Analyst</td>\n",
       "      <td>sql</td>\n",
       "      <td>92428</td>\n",
       "    </tr>\n",
       "    <tr>\n",
       "      <th>494</th>\n",
       "      <td>Data Analyst</td>\n",
       "      <td>excel</td>\n",
       "      <td>66860</td>\n",
       "    </tr>\n",
       "    <tr>\n",
       "      <th>590</th>\n",
       "      <td>Data Analyst</td>\n",
       "      <td>python</td>\n",
       "      <td>57190</td>\n",
       "    </tr>\n",
       "    <tr>\n",
       "      <th>638</th>\n",
       "      <td>Data Analyst</td>\n",
       "      <td>tableau</td>\n",
       "      <td>46455</td>\n",
       "    </tr>\n",
       "    <tr>\n",
       "      <th>583</th>\n",
       "      <td>Data Analyst</td>\n",
       "      <td>power bi</td>\n",
       "      <td>39380</td>\n",
       "    </tr>\n",
       "    <tr>\n",
       "      <th>594</th>\n",
       "      <td>Data Analyst</td>\n",
       "      <td>r</td>\n",
       "      <td>29996</td>\n",
       "    </tr>\n",
       "    <tr>\n",
       "      <th>606</th>\n",
       "      <td>Data Analyst</td>\n",
       "      <td>sas</td>\n",
       "      <td>27998</td>\n",
       "    </tr>\n",
       "    <tr>\n",
       "      <th>585</th>\n",
       "      <td>Data Analyst</td>\n",
       "      <td>powerpoint</td>\n",
       "      <td>13822</td>\n",
       "    </tr>\n",
       "    <tr>\n",
       "      <th>664</th>\n",
       "      <td>Data Analyst</td>\n",
       "      <td>word</td>\n",
       "      <td>13562</td>\n",
       "    </tr>\n",
       "    <tr>\n",
       "      <th>605</th>\n",
       "      <td>Data Analyst</td>\n",
       "      <td>sap</td>\n",
       "      <td>11280</td>\n",
       "    </tr>\n",
       "  </tbody>\n",
       "</table>\n",
       "</div>"
      ],
      "text/plain": [
       "    job_title_short  job_skills  skill_counter\n",
       "625    Data Analyst         sql          92428\n",
       "494    Data Analyst       excel          66860\n",
       "590    Data Analyst      python          57190\n",
       "638    Data Analyst     tableau          46455\n",
       "583    Data Analyst    power bi          39380\n",
       "594    Data Analyst           r          29996\n",
       "606    Data Analyst         sas          27998\n",
       "585    Data Analyst  powerpoint          13822\n",
       "664    Data Analyst        word          13562\n",
       "605    Data Analyst         sap          11280"
      ]
     },
     "execution_count": 39,
     "metadata": {},
     "output_type": "execute_result"
    }
   ],
   "source": [
    "job_title = \"Data Analyst\"\n",
    "counter = 10\n",
    "\n",
    "df_skill_counter = df_skill_counter[df_skill_counter.job_title_short == job_title].head(counter)\n",
    "df_skill_counter"
   ]
  },
  {
   "cell_type": "code",
   "execution_count": 43,
   "metadata": {},
   "outputs": [
    {
     "data": {
      "text/plain": [
       "<AxesSubplot:ylabel='job_skills'>"
      ]
     },
     "execution_count": 43,
     "metadata": {},
     "output_type": "execute_result"
    },
    {
     "data": {
      "image/png": "[encoded data removed]",
      "text/plain": [
       "<Figure size 432x288 with 1 Axes>"
      ]
     },
     "metadata": {
      "needs_background": "light"
     },
     "output_type": "display_data"
    }
   ],
   "source": [
    "df_skill_counter.plot(kind=\"barh\", x=\"job_skills\", y=\"skill_counter\")\n"
   ]
  },
  {
   "cell_type": "code",
   "execution_count": 46,
   "metadata": {},
   "outputs": [
    {
     "data": {
      "image/png": "[encoded data removed]",
      "text/plain": [
       "<Figure size 432x288 with 1 Axes>"
      ]
     },
     "metadata": {
      "needs_background": "light"
     },
     "output_type": "display_data"
    }
   ],
   "source": [
    "df_skill_counter.plot(kind=\"barh\", x=\"job_skills\", y=\"skill_counter\")\n",
    "plt.gca().invert_yaxis()\n",
    "plt.title(f\"Top {counter} Skills for {job_title}s\")\n",
    "plt.xlabel(\"Job Posting Count\")\n",
    "plt.ylabel(\"\")\n",
    "plt.legend().set_visible(False)"
   ]
  }
 ],
 "metadata": {
  "kernelspec": {
   "display_name": "base",
   "language": "python",
   "name": "python3"
  },
  "language_info": {
   "codemirror_mode": {
    "name": "ipython",
    "version": 3
   },
   "file_extension": ".py",
   "mimetype": "text/x-python",
   "name": "python",
   "nbconvert_exporter": "python",
   "pygments_lexer": "ipython3",
   "version": "3.9.7"
  }
 },
 "nbformat": 4,
 "nbformat_minor": 2
}

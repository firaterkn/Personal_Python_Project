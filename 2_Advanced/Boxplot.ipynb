{
 "cells": [
  {
   "cell_type": "code",
   "execution_count": 2,
   "metadata": {},
   "outputs": [],
   "source": [
    "import pandas as pd\n",
    "import matplotlib.pyplot as plt\n",
    "import numpy as np\n",
    "import ast\n",
    "\n",
    "df = pd.read_csv(\"C:\\\\Users\\\\ERKAN\\\\Downloads\\\\data_jobs.csv\")\n",
    "df[\"job_posted_date\"] = pd.to_datetime(df.job_posted_date)\n",
    "\n",
    "\n",
    "df[\"job_skills\"] = df[\"job_skills\"].apply(lambda x: ast.literal_eval(x) if pd.notna(x) else x)\n",
    "\n",
    "df_DA_US = df[(df.job_title_short == \"Data Analyst\") & (df.job_country ==\"United States\")].copy()\n",
    "df_DA_US = df_DA_US.dropna(subset=[\"salary_year_avg\"])"
   ]
  },
  {
   "cell_type": "code",
   "execution_count": 3,
   "metadata": {},
   "outputs": [
    {
     "data": {
      "image/png": "[encoded data removed]",
      "text/plain": [
       "<Figure size 432x288 with 1 Axes>"
      ]
     },
     "metadata": {
      "needs_background": "light"
     },
     "output_type": "display_data"
    }
   ],
   "source": [
    "df_DA_US['salary_year_avg'].plot(kind='box', vert=False)\n",
    "# or use plt.boxplot(df_DA_US.salary_year_avg)\n",
    "\n",
    "plt.title(\"Salary Distributions for Data Analyst in the US\")\n",
    "plt.ylabel(\"\")\n",
    "plt.xlabel(\"Median Salary ($)\")\n",
    "\n",
    "plt.show()\n"
   ]
  },
  {
   "cell_type": "code",
   "execution_count": 4,
   "metadata": {},
   "outputs": [
    {
     "data": {
      "text/plain": [
       "Data Analyst      67816\n",
       "Data Scientist    58830\n",
       "Data Engineer     35080\n",
       "Name: job_title_short, dtype: int64"
      ]
     },
     "execution_count": 4,
     "metadata": {},
     "output_type": "execute_result"
    }
   ],
   "source": [
    "job_titles = [\"Data Analyst\", \"Data Scientist\", \"Data Engineer\"]\n",
    "\n",
    "df_US = df[(df.job_title_short.isin(job_titles)) & (df.job_country == \"United States\")].copy()\n",
    "\n",
    "df_US.job_title_short.value_counts()\n"
   ]
  },
  {
   "cell_type": "code",
   "execution_count": 5,
   "metadata": {},
   "outputs": [
    {
     "data": {
      "text/plain": [
       "3              NaN\n",
       "5              NaN\n",
       "9              NaN\n",
       "11             NaN\n",
       "17             NaN\n",
       "            ...   \n",
       "785673         NaN\n",
       "785685         NaN\n",
       "785692    157500.0\n",
       "785703         NaN\n",
       "785705         NaN\n",
       "Name: salary_year_avg, Length: 161726, dtype: float64"
      ]
     },
     "execution_count": 5,
     "metadata": {},
     "output_type": "execute_result"
    }
   ],
   "source": [
    "df_US.salary_year_avg"
   ]
  },
  {
   "cell_type": "code",
   "execution_count": 6,
   "metadata": {},
   "outputs": [
    {
     "data": {
      "text/plain": [
       "92        120000.0\n",
       "100       228222.0\n",
       "109        89000.0\n",
       "116       114000.0\n",
       "146       129500.0\n",
       "            ...   \n",
       "785563    136400.0\n",
       "785624    139216.0\n",
       "785641    150000.0\n",
       "785648    221875.0\n",
       "785692    157500.0\n",
       "Name: salary_year_avg, Length: 11818, dtype: float64"
      ]
     },
     "execution_count": 6,
     "metadata": {},
     "output_type": "execute_result"
    }
   ],
   "source": [
    "df_US =df_US.dropna(subset=[\"salary_year_avg\"])\n",
    "df_US.salary_year_avg"
   ]
  },
  {
   "cell_type": "code",
   "execution_count": 10,
   "metadata": {},
   "outputs": [
    {
     "data": {
      "text/plain": [
       "109        89000.0\n",
       "180        90250.0\n",
       "410       133285.0\n",
       "988        62623.0\n",
       "1413       71300.0\n",
       "            ...   \n",
       "782637     70000.0\n",
       "782798    111175.0\n",
       "783588    125000.0\n",
       "783866    115000.0\n",
       "784882     87500.0\n",
       "Name: salary_year_avg, Length: 4350, dtype: float64"
      ]
     },
     "execution_count": 10,
     "metadata": {},
     "output_type": "execute_result"
    }
   ],
   "source": [
    "job_list = [df_US[df_US.job_title_short == job_title][\"salary_year_avg\"] for job_title in job_titles]\n",
    "job_list[0]"
   ]
  },
  {
   "cell_type": "code",
   "execution_count": 14,
   "metadata": {},
   "outputs": [
    {
     "data": {
      "image/png": "[encoded data removed]",
      "text/plain": [
       "<Figure size 432x288 with 1 Axes>"
      ]
     },
     "metadata": {
      "needs_background": "light"
     },
     "output_type": "display_data"
    }
   ],
   "source": [
    "plt.boxplot(job_list, labels=job_titles, vert=False)\n",
    "plt.title(\"Salary Distributions in the United States\")\n",
    "plt.xlabel(\"Yearly Salary ($)\")\n",
    "plt.xlim(0, 650_000) \n",
    "\n",
    "# Format x-axis to show 'Thousands'\n",
    "ax = plt.gca()\n",
    "ax.xaxis.set_major_formatter(plt.FuncFormatter(lambda x, pos: f'${int(x/1000)}K'))\n",
    "\n",
    "plt.show()"
   ]
  }
 ],
 "metadata": {
  "kernelspec": {
   "display_name": "base",
   "language": "python",
   "name": "python3"
  },
  "language_info": {
   "codemirror_mode": {
    "name": "ipython",
    "version": 3
   },
   "file_extension": ".py",
   "mimetype": "text/x-python",
   "name": "python",
   "nbconvert_exporter": "python",
   "pygments_lexer": "ipython3",
   "version": "3.9.7"
  }
 },
 "nbformat": 4,
 "nbformat_minor": 2
}
